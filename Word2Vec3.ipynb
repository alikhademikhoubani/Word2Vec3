{
 "cells": [
  {
   "cell_type": "code",
   "execution_count": 1,
   "id": "9be6be50-ee73-4fb7-826a-38950936989e",
   "metadata": {},
   "outputs": [],
   "source": [
    "import pandas as pd\n",
    "import gensim"
   ]
  },
  {
   "cell_type": "code",
   "execution_count": 2,
   "id": "720553e1-3a9b-4d1f-acb2-43fa5acfcbef",
   "metadata": {},
   "outputs": [
    {
     "data": {
      "text/html": [
       "<div>\n",
       "<style scoped>\n",
       "    .dataframe tbody tr th:only-of-type {\n",
       "        vertical-align: middle;\n",
       "    }\n",
       "\n",
       "    .dataframe tbody tr th {\n",
       "        vertical-align: top;\n",
       "    }\n",
       "\n",
       "    .dataframe thead th {\n",
       "        text-align: right;\n",
       "    }\n",
       "</style>\n",
       "<table border=\"1\" class=\"dataframe\">\n",
       "  <thead>\n",
       "    <tr style=\"text-align: right;\">\n",
       "      <th></th>\n",
       "      <th>Time_submitted</th>\n",
       "      <th>Review</th>\n",
       "      <th>Rating</th>\n",
       "      <th>Total_thumbsup</th>\n",
       "      <th>Reply</th>\n",
       "    </tr>\n",
       "  </thead>\n",
       "  <tbody>\n",
       "    <tr>\n",
       "      <th>0</th>\n",
       "      <td>2022-07-09 15:00:00</td>\n",
       "      <td>Great music service, the audio is high quality...</td>\n",
       "      <td>5</td>\n",
       "      <td>2</td>\n",
       "      <td>NaN</td>\n",
       "    </tr>\n",
       "    <tr>\n",
       "      <th>1</th>\n",
       "      <td>2022-07-09 14:21:22</td>\n",
       "      <td>Please ignore previous negative rating. This a...</td>\n",
       "      <td>5</td>\n",
       "      <td>1</td>\n",
       "      <td>NaN</td>\n",
       "    </tr>\n",
       "    <tr>\n",
       "      <th>2</th>\n",
       "      <td>2022-07-09 13:27:32</td>\n",
       "      <td>This pop-up \"Get the best Spotify experience o...</td>\n",
       "      <td>4</td>\n",
       "      <td>0</td>\n",
       "      <td>NaN</td>\n",
       "    </tr>\n",
       "    <tr>\n",
       "      <th>3</th>\n",
       "      <td>2022-07-09 13:26:45</td>\n",
       "      <td>Really buggy and terrible to use as of recently</td>\n",
       "      <td>1</td>\n",
       "      <td>1</td>\n",
       "      <td>NaN</td>\n",
       "    </tr>\n",
       "    <tr>\n",
       "      <th>4</th>\n",
       "      <td>2022-07-09 13:20:49</td>\n",
       "      <td>Dear Spotify why do I get songs that I didn't ...</td>\n",
       "      <td>1</td>\n",
       "      <td>1</td>\n",
       "      <td>NaN</td>\n",
       "    </tr>\n",
       "  </tbody>\n",
       "</table>\n",
       "</div>"
      ],
      "text/plain": [
       "        Time_submitted                                             Review  \\\n",
       "0  2022-07-09 15:00:00  Great music service, the audio is high quality...   \n",
       "1  2022-07-09 14:21:22  Please ignore previous negative rating. This a...   \n",
       "2  2022-07-09 13:27:32  This pop-up \"Get the best Spotify experience o...   \n",
       "3  2022-07-09 13:26:45    Really buggy and terrible to use as of recently   \n",
       "4  2022-07-09 13:20:49  Dear Spotify why do I get songs that I didn't ...   \n",
       "\n",
       "   Rating  Total_thumbsup Reply  \n",
       "0       5               2   NaN  \n",
       "1       5               1   NaN  \n",
       "2       4               0   NaN  \n",
       "3       1               1   NaN  \n",
       "4       1               1   NaN  "
      ]
     },
     "execution_count": 2,
     "metadata": {},
     "output_type": "execute_result"
    }
   ],
   "source": [
    "df=pd.read_csv('reviews.csv')\n",
    "df.head()"
   ]
  },
  {
   "cell_type": "code",
   "execution_count": 3,
   "id": "7b26421b-3b8d-49b7-a015-1e2e6b059f83",
   "metadata": {},
   "outputs": [
    {
     "data": {
      "text/plain": [
       "(61594, 5)"
      ]
     },
     "execution_count": 3,
     "metadata": {},
     "output_type": "execute_result"
    }
   ],
   "source": [
    "df.shape"
   ]
  },
  {
   "cell_type": "code",
   "execution_count": 4,
   "id": "4ff7870f-46ec-46e7-83fc-8bd2dd77854b",
   "metadata": {},
   "outputs": [
    {
     "data": {
      "text/plain": [
       "0        Great music service, the audio is high quality...\n",
       "1        Please ignore previous negative rating. This a...\n",
       "2        This pop-up \"Get the best Spotify experience o...\n",
       "3          Really buggy and terrible to use as of recently\n",
       "4        Dear Spotify why do I get songs that I didn't ...\n",
       "                               ...                        \n",
       "61589    Even though it was communicated that lyrics fe...\n",
       "61590    Use to be sooo good back when I had it, and wh...\n",
       "61591    This app would be good if not for it taking ov...\n",
       "61592    The app is good hard to navigate and won't jus...\n",
       "61593    Its good but sometimes it doesnt load the musi...\n",
       "Name: Review, Length: 61594, dtype: object"
      ]
     },
     "execution_count": 4,
     "metadata": {},
     "output_type": "execute_result"
    }
   ],
   "source": [
    "df['Review']"
   ]
  },
  {
   "cell_type": "code",
   "execution_count": 5,
   "id": "22dd51bf-e74f-4e63-97a1-6e0535ddf0f4",
   "metadata": {},
   "outputs": [
    {
     "data": {
      "text/plain": [
       "'Great music service, the audio is high quality and the app is easy to use. Also very quick and friendly support.'"
      ]
     },
     "execution_count": 5,
     "metadata": {},
     "output_type": "execute_result"
    }
   ],
   "source": [
    "df['Review'][0]"
   ]
  },
  {
   "cell_type": "code",
   "execution_count": 6,
   "id": "423866ce-f93a-486c-8db9-cbc8237dd1ee",
   "metadata": {},
   "outputs": [
    {
     "data": {
      "text/plain": [
       "0        [great, music, service, the, audio, is, high, ...\n",
       "1        [please, ignore, previous, negative, rating, t...\n",
       "2        [this, pop, up, get, the, best, spotify, exper...\n",
       "3        [really, buggy, and, terrible, to, use, as, of...\n",
       "4        [dear, spotify, why, do, get, songs, that, did...\n",
       "                               ...                        \n",
       "61589    [even, though, it, was, communicated, that, ly...\n",
       "61590    [use, to, be, sooo, good, back, when, had, it,...\n",
       "61591    [this, app, would, be, good, if, not, for, it,...\n",
       "61592    [the, app, is, good, hard, to, navigate, and, ...\n",
       "61593    [its, good, but, sometimes, it, doesnt, load, ...\n",
       "Name: Review, Length: 61594, dtype: object"
      ]
     },
     "execution_count": 6,
     "metadata": {},
     "output_type": "execute_result"
    }
   ],
   "source": [
    "data_review=df['Review'].apply(gensim.utils.simple_preprocess)\n",
    "data_review"
   ]
  },
  {
   "cell_type": "code",
   "execution_count": 7,
   "id": "96d16fc6-c02f-44ec-943a-aad3242449cb",
   "metadata": {},
   "outputs": [
    {
     "data": {
      "text/plain": [
       "['great',\n",
       " 'music',\n",
       " 'service',\n",
       " 'the',\n",
       " 'audio',\n",
       " 'is',\n",
       " 'high',\n",
       " 'quality',\n",
       " 'and',\n",
       " 'the',\n",
       " 'app',\n",
       " 'is',\n",
       " 'easy',\n",
       " 'to',\n",
       " 'use',\n",
       " 'also',\n",
       " 'very',\n",
       " 'quick',\n",
       " 'and',\n",
       " 'friendly',\n",
       " 'support']"
      ]
     },
     "execution_count": 7,
     "metadata": {},
     "output_type": "execute_result"
    }
   ],
   "source": [
    "data_review[0]"
   ]
  },
  {
   "cell_type": "code",
   "execution_count": 8,
   "id": "42872960-7090-4b7c-9bb4-d8da11f28fc7",
   "metadata": {},
   "outputs": [],
   "source": [
    "model=gensim.models.Word2Vec(\n",
    "    window=10,\n",
    "    min_count=2,\n",
    "    workers=4)"
   ]
  },
  {
   "cell_type": "code",
   "execution_count": 9,
   "id": "df057285-3bc6-4c8f-ac07-a94adc0f9946",
   "metadata": {},
   "outputs": [],
   "source": [
    "model.build_vocab(data_review,progress_per=1000)"
   ]
  },
  {
   "cell_type": "code",
   "execution_count": 10,
   "id": "08602737-7097-4d5a-927d-94a44a25ee8e",
   "metadata": {},
   "outputs": [
    {
     "data": {
      "text/plain": [
       "(12516655, 17714540)"
      ]
     },
     "execution_count": 10,
     "metadata": {},
     "output_type": "execute_result"
    }
   ],
   "source": [
    "model.train(data_review,total_examples=61594,epochs=10)"
   ]
  },
  {
   "cell_type": "code",
   "execution_count": 11,
   "id": "734c1fa6-1073-4902-a57b-efea860b6fb1",
   "metadata": {},
   "outputs": [
    {
     "data": {
      "text/plain": [
       "[('musics', 0.566897451877594),\n",
       " ('songs', 0.5541085600852966),\n",
       " ('tunes', 0.5230360627174377),\n",
       " ('song', 0.48115891218185425),\n",
       " ('games', 0.4487698972225189),\n",
       " ('tracks', 0.43848636746406555),\n",
       " ('stuff', 0.43388745188713074),\n",
       " ('podcast', 0.4090507924556732),\n",
       " ('favourites', 0.4047359228134155),\n",
       " ('stations', 0.39954274892807007)]"
      ]
     },
     "execution_count": 11,
     "metadata": {},
     "output_type": "execute_result"
    }
   ],
   "source": [
    "model.wv.most_similar('music')"
   ]
  },
  {
   "cell_type": "code",
   "execution_count": 12,
   "id": "7e173431-4c04-4a3a-a785-e1f40da6118f",
   "metadata": {},
   "outputs": [
    {
     "data": {
      "text/plain": [
       "[('black', 0.6426113843917847),\n",
       " ('lock', 0.6096254587173462),\n",
       " ('finger', 0.5922276377677917),\n",
       " ('blank', 0.5461150407791138),\n",
       " ('touch', 0.5411792397499084),\n",
       " ('bottom', 0.5310021638870239),\n",
       " ('gym', 0.5179476141929626),\n",
       " ('icon', 0.5144488215446472),\n",
       " ('staring', 0.5106039643287659),\n",
       " ('splash', 0.5091754198074341)]"
      ]
     },
     "execution_count": 12,
     "metadata": {},
     "output_type": "execute_result"
    }
   ],
   "source": [
    "model.wv.most_similar('home')"
   ]
  },
  {
   "cell_type": "code",
   "execution_count": 13,
   "id": "ae5b49a2-fdcc-40b7-a263-4da53186395f",
   "metadata": {},
   "outputs": [
    {
     "data": {
      "text/plain": [
       "[('device', 0.6826843619346619),\n",
       " ('headphones', 0.6300022602081299),\n",
       " ('tablet', 0.5993310213088989),\n",
       " ('playstation', 0.5970117449760437),\n",
       " ('laptop', 0.5923073887825012),\n",
       " ('phones', 0.5618476271629333),\n",
       " ('computer', 0.547933042049408),\n",
       " ('earbuds', 0.5435106754302979),\n",
       " ('chromebook', 0.5391107797622681),\n",
       " ('cellphone', 0.5287224650382996)]"
      ]
     },
     "execution_count": 13,
     "metadata": {},
     "output_type": "execute_result"
    }
   ],
   "source": [
    "model.wv.most_similar('phone')"
   ]
  },
  {
   "cell_type": "code",
   "execution_count": 14,
   "id": "7301439b-615c-49c2-8808-dd90adb92c30",
   "metadata": {},
   "outputs": [
    {
     "data": {
      "text/plain": [
       "0.32511756"
      ]
     },
     "execution_count": 14,
     "metadata": {},
     "output_type": "execute_result"
    }
   ],
   "source": [
    "model.wv.similarity(w1='singer',w2='song')"
   ]
  },
  {
   "cell_type": "code",
   "execution_count": 15,
   "id": "867bf501-75f3-4972-ae92-58c2448da802",
   "metadata": {},
   "outputs": [
    {
     "data": {
      "text/plain": [
       "0.12242136"
      ]
     },
     "execution_count": 15,
     "metadata": {},
     "output_type": "execute_result"
    }
   ],
   "source": [
    "model.wv.similarity(w1='calm',w2='good')"
   ]
  },
  {
   "cell_type": "code",
   "execution_count": 18,
   "id": "dba5367e-83b8-422f-921a-9388b8448f3a",
   "metadata": {},
   "outputs": [
    {
     "data": {
      "text/plain": [
       "0.37494078"
      ]
     },
     "execution_count": 18,
     "metadata": {},
     "output_type": "execute_result"
    }
   ],
   "source": [
    "model.wv.similarity(w1='music',w2='audio')"
   ]
  },
  {
   "cell_type": "code",
   "execution_count": 19,
   "id": "282b04ad-d320-4a2b-b872-b59b5f235142",
   "metadata": {},
   "outputs": [],
   "source": [
    "model.save('./word2vec-spotify-reviews.model')"
   ]
  }
 ],
 "metadata": {
  "kernelspec": {
   "display_name": "Python 3 (ipykernel)",
   "language": "python",
   "name": "python3"
  },
  "language_info": {
   "codemirror_mode": {
    "name": "ipython",
    "version": 3
   },
   "file_extension": ".py",
   "mimetype": "text/x-python",
   "name": "python",
   "nbconvert_exporter": "python",
   "pygments_lexer": "ipython3",
   "version": "3.10.5"
  }
 },
 "nbformat": 4,
 "nbformat_minor": 5
}
